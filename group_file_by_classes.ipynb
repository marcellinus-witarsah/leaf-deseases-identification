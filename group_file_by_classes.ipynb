{
 "cells": [
  {
   "cell_type": "code",
   "execution_count": 91,
   "metadata": {},
   "outputs": [],
   "source": [
    "# import necessary libraries for this explorarion process\n",
    "import pandas as pd\n",
    "import numpy as np\n",
    "import os\n",
    "import shutil\n",
    "import tensorflow as tf\n",
    "import matplotlib.pyplot as plt\n",
    "import glob"
   ]
  },
  {
   "cell_type": "code",
   "execution_count": 122,
   "metadata": {},
   "outputs": [],
   "source": [
    "metadata_train = pd.read_csv(\"train.csv\")\n",
    "metadata_train['labels'] = metadata_train['labels'].apply(lambda x: x.split())\n",
    "metadata_train['image'] = metadata_train['image'].apply(lambda x: \"plant-pathology-2021-fgvc8\\\\train_images\\\\\" + x)"
   ]
  },
  {
   "cell_type": "code",
   "execution_count": 127,
   "metadata": {},
   "outputs": [
    {
     "name": "stdout",
     "output_type": "stream",
     "text": [
      "File already exist\n"
     ]
    }
   ],
   "source": [
    "folder = \"grouped_train_images\"\n",
    "labels = ['healthy', 'scab', 'frog_eye_leaf_spot' ,'complex', 'rust', 'powdery_mildew']\n",
    "labels.sort()\n",
    "\n",
    "try:\n",
    "    os.mkdir(folder)\n",
    "\n",
    "    for label in labels:\n",
    "        os.makedirs(folder+\"/\"+label)\n",
    "except:\n",
    "    print(\"File already exist\")\n",
    "\n",
    "source = \"train_images\"\n",
    "for idx, labels in enumerate(metadata_train['labels']):\n",
    "    img_path = metadata_train['image'][idx]\n",
    "    for label in labels:\n",
    "        if os.path.isfile(f\"{folder}\\\\{label}\"):\n",
    "            shutil.copy(img_path, f\"{folder}\\\\{label}\")"
   ]
  },
  {
   "cell_type": "code",
   "execution_count": 129,
   "metadata": {
    "scrolled": true
   },
   "outputs": [
    {
     "name": "stdout",
     "output_type": "stream",
     "text": [
      "Searching in :  grouped_train_images\\healthy\n"
     ]
    }
   ],
   "source": [
    "totalFiles = 0\n",
    "for base, dirs, files in os.walk(folder+\"\\\\healthy\"):\n",
    "    print('Searching in : ',base)\n",
    "    for directories in dirs:\n",
    "        totalDir += 1\n",
    "    for Files in files:\n",
    "        totalFiles += 1"
   ]
  }
 ],
 "metadata": {
  "kernelspec": {
   "display_name": "Python 3",
   "language": "python",
   "name": "python3"
  },
  "language_info": {
   "codemirror_mode": {
    "name": "ipython",
    "version": 3
   },
   "file_extension": ".py",
   "mimetype": "text/x-python",
   "name": "python",
   "nbconvert_exporter": "python",
   "pygments_lexer": "ipython3",
   "version": "3.8.5"
  }
 },
 "nbformat": 4,
 "nbformat_minor": 4
}
