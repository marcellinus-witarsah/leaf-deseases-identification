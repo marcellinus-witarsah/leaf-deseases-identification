{
 "cells": [
  {
   "cell_type": "code",
   "execution_count": 1,
   "metadata": {},
   "outputs": [],
   "source": [
    "# import necessary libraries for this explorarion process\n",
    "import os\n",
    "import pandas as pd\n",
    "import numpy as np\n",
    "import dask\n",
    "import dask_image.imread\n",
    "import dask.array as da\n",
    "import dask.dataframe as dd\n",
    "import cv2\n",
    "import napari\n",
    "import matplotlib.pyplot as plt\n",
    "import seaborn as sns\n",
    "from distributed import Client, LocalCluster\n",
    "import math"
   ]
  },
  {
   "cell_type": "code",
   "execution_count": 43,
   "metadata": {
    "scrolled": false
   },
   "outputs": [
    {
     "data": {
      "text/plain": [
       "array(['healthy', 'scab frog_eye_leaf_spot complex', 'scab', 'complex',\n",
       "       'rust', 'frog_eye_leaf_spot', 'powdery_mildew',\n",
       "       'scab frog_eye_leaf_spot', 'frog_eye_leaf_spot complex',\n",
       "       'rust frog_eye_leaf_spot', 'powdery_mildew complex',\n",
       "       'rust complex'], dtype=object)"
      ]
     },
     "metadata": {},
     "output_type": "display_data"
    },
    {
     "data": {
      "text/html": [
       "<div>\n",
       "<style scoped>\n",
       "    .dataframe tbody tr th:only-of-type {\n",
       "        vertical-align: middle;\n",
       "    }\n",
       "\n",
       "    .dataframe tbody tr th {\n",
       "        vertical-align: top;\n",
       "    }\n",
       "\n",
       "    .dataframe thead th {\n",
       "        text-align: right;\n",
       "    }\n",
       "</style>\n",
       "<table border=\"1\" class=\"dataframe\">\n",
       "  <thead>\n",
       "    <tr style=\"text-align: right;\">\n",
       "      <th></th>\n",
       "      <th>image</th>\n",
       "      <th>labels</th>\n",
       "    </tr>\n",
       "  </thead>\n",
       "  <tbody>\n",
       "    <tr>\n",
       "      <th>0</th>\n",
       "      <td>800113bb65efe69e.jpg</td>\n",
       "      <td>healthy</td>\n",
       "    </tr>\n",
       "    <tr>\n",
       "      <th>1</th>\n",
       "      <td>8002cb321f8bfcdf.jpg</td>\n",
       "      <td>scab frog_eye_leaf_spot complex</td>\n",
       "    </tr>\n",
       "    <tr>\n",
       "      <th>2</th>\n",
       "      <td>80070f7fb5e2ccaa.jpg</td>\n",
       "      <td>scab</td>\n",
       "    </tr>\n",
       "    <tr>\n",
       "      <th>3</th>\n",
       "      <td>80077517781fb94f.jpg</td>\n",
       "      <td>scab</td>\n",
       "    </tr>\n",
       "    <tr>\n",
       "      <th>4</th>\n",
       "      <td>800cbf0ff87721f8.jpg</td>\n",
       "      <td>complex</td>\n",
       "    </tr>\n",
       "  </tbody>\n",
       "</table>\n",
       "</div>"
      ],
      "text/plain": [
       "                  image                           labels\n",
       "0  800113bb65efe69e.jpg                          healthy\n",
       "1  8002cb321f8bfcdf.jpg  scab frog_eye_leaf_spot complex\n",
       "2  80070f7fb5e2ccaa.jpg                             scab\n",
       "3  80077517781fb94f.jpg                             scab\n",
       "4  800cbf0ff87721f8.jpg                          complex"
      ]
     },
     "metadata": {},
     "output_type": "display_data"
    },
    {
     "name": "stdout",
     "output_type": "stream",
     "text": [
      "<class 'pandas.core.frame.DataFrame'>\n",
      "RangeIndex: 18632 entries, 0 to 18631\n",
      "Data columns (total 2 columns):\n",
      " #   Column  Non-Null Count  Dtype \n",
      "---  ------  --------------  ----- \n",
      " 0   image   18632 non-null  object\n",
      " 1   labels  18632 non-null  object\n",
      "dtypes: object(2)\n",
      "memory usage: 291.2+ KB\n"
     ]
    },
    {
     "data": {
      "text/plain": [
       "None"
      ]
     },
     "metadata": {},
     "output_type": "display_data"
    }
   ],
   "source": [
    "metadata_train_ori = pd.read_csv(\"plant-pathology-2021-fgvc8\\\\train.csv\")\n",
    "metadata_test_ori = pd.read_csv(\"plant-pathology-2021-fgvc8\\\\sample_submission.csv\")\n",
    "metadata_train = metadata_train_ori.copy()\n",
    "metadata_test = metadata_test_ori.copy()\n",
    "# split labels as every images will have more than 1 deseases\n",
    "# metadata_train['labels'] = metadata_train['labels'].apply(lambda x: x.split())\n",
    "display(metadata_train.labels.unique())\n",
    "display(metadata_train.head())\n",
    "# the data itself has 18632 row and 2 Columns\n",
    "# which can be summarized that there is a 18632 images to loaded for training\n",
    "display(metadata_train.info())"
   ]
  },
  {
   "cell_type": "markdown",
   "metadata": {},
   "source": [
    "Because this is a multi-label image classification problem we need to separate each label, because we want our model to predict every deseases based on probabilty of each label."
   ]
  },
  {
   "cell_type": "code",
   "execution_count": 42,
   "metadata": {},
   "outputs": [],
   "source": [
    "labels = ['healthy', 'scab', 'frog_eye_leaf_spot' ,'complex', 'rust', 'powdery_mildew']\n",
    "labels.sort()"
   ]
  },
  {
   "cell_type": "code",
   "execution_count": 44,
   "metadata": {},
   "outputs": [],
   "source": [
    "train_img_path = \"plant-pathology-2021-fgvc8/train_images\"\n",
    "metadata_train['labels'] = metadata_train['labels'].apply(lambda x: x.split())\n",
    "metadata_test['labels'] = metadata_test['labels'].apply(lambda x: x.split())\n",
    "\n",
    "# metadata_train['image'] = metadata_train['image'].apply(lambda x: train_img_path+\"\\\\\"+x) "
   ]
  },
  {
   "cell_type": "code",
   "execution_count": 5,
   "metadata": {},
   "outputs": [
    {
     "data": {
      "text/html": [
       "<div>\n",
       "<style scoped>\n",
       "    .dataframe tbody tr th:only-of-type {\n",
       "        vertical-align: middle;\n",
       "    }\n",
       "\n",
       "    .dataframe tbody tr th {\n",
       "        vertical-align: top;\n",
       "    }\n",
       "\n",
       "    .dataframe thead th {\n",
       "        text-align: right;\n",
       "    }\n",
       "</style>\n",
       "<table border=\"1\" class=\"dataframe\">\n",
       "  <thead>\n",
       "    <tr style=\"text-align: right;\">\n",
       "      <th></th>\n",
       "      <th>image</th>\n",
       "      <th>labels</th>\n",
       "    </tr>\n",
       "  </thead>\n",
       "  <tbody>\n",
       "    <tr>\n",
       "      <th>0</th>\n",
       "      <td>800113bb65efe69e.jpg</td>\n",
       "      <td>[healthy]</td>\n",
       "    </tr>\n",
       "    <tr>\n",
       "      <th>1</th>\n",
       "      <td>8002cb321f8bfcdf.jpg</td>\n",
       "      <td>[scab, frog_eye_leaf_spot, complex]</td>\n",
       "    </tr>\n",
       "    <tr>\n",
       "      <th>2</th>\n",
       "      <td>80070f7fb5e2ccaa.jpg</td>\n",
       "      <td>[scab]</td>\n",
       "    </tr>\n",
       "    <tr>\n",
       "      <th>3</th>\n",
       "      <td>80077517781fb94f.jpg</td>\n",
       "      <td>[scab]</td>\n",
       "    </tr>\n",
       "    <tr>\n",
       "      <th>4</th>\n",
       "      <td>800cbf0ff87721f8.jpg</td>\n",
       "      <td>[complex]</td>\n",
       "    </tr>\n",
       "    <tr>\n",
       "      <th>...</th>\n",
       "      <td>...</td>\n",
       "      <td>...</td>\n",
       "    </tr>\n",
       "    <tr>\n",
       "      <th>18627</th>\n",
       "      <td>fffb900a92289a33.jpg</td>\n",
       "      <td>[healthy]</td>\n",
       "    </tr>\n",
       "    <tr>\n",
       "      <th>18628</th>\n",
       "      <td>fffc488fa4c0e80c.jpg</td>\n",
       "      <td>[scab]</td>\n",
       "    </tr>\n",
       "    <tr>\n",
       "      <th>18629</th>\n",
       "      <td>fffc94e092a59086.jpg</td>\n",
       "      <td>[rust]</td>\n",
       "    </tr>\n",
       "    <tr>\n",
       "      <th>18630</th>\n",
       "      <td>fffe105cf6808292.jpg</td>\n",
       "      <td>[scab, frog_eye_leaf_spot]</td>\n",
       "    </tr>\n",
       "    <tr>\n",
       "      <th>18631</th>\n",
       "      <td>fffe472a0001bd25.jpg</td>\n",
       "      <td>[healthy]</td>\n",
       "    </tr>\n",
       "  </tbody>\n",
       "</table>\n",
       "<p>18632 rows × 2 columns</p>\n",
       "</div>"
      ],
      "text/plain": [
       "                      image                               labels\n",
       "0      800113bb65efe69e.jpg                            [healthy]\n",
       "1      8002cb321f8bfcdf.jpg  [scab, frog_eye_leaf_spot, complex]\n",
       "2      80070f7fb5e2ccaa.jpg                               [scab]\n",
       "3      80077517781fb94f.jpg                               [scab]\n",
       "4      800cbf0ff87721f8.jpg                            [complex]\n",
       "...                     ...                                  ...\n",
       "18627  fffb900a92289a33.jpg                            [healthy]\n",
       "18628  fffc488fa4c0e80c.jpg                               [scab]\n",
       "18629  fffc94e092a59086.jpg                               [rust]\n",
       "18630  fffe105cf6808292.jpg           [scab, frog_eye_leaf_spot]\n",
       "18631  fffe472a0001bd25.jpg                            [healthy]\n",
       "\n",
       "[18632 rows x 2 columns]"
      ]
     },
     "execution_count": 5,
     "metadata": {},
     "output_type": "execute_result"
    }
   ],
   "source": [
    "metadata_train "
   ]
  },
  {
   "cell_type": "markdown",
   "metadata": {},
   "source": [
    "Save to .csv for ease of access"
   ]
  },
  {
   "cell_type": "code",
   "execution_count": 6,
   "metadata": {},
   "outputs": [],
   "source": [
    "# df = pd.DataFrame(img_label_dict)\n",
    "# df.to_csv('multi_label_train.csv', index=False)"
   ]
  },
  {
   "cell_type": "code",
   "execution_count": 7,
   "metadata": {},
   "outputs": [],
   "source": [
    "df_ori = pd.read_csv('multi_label_train.csv')\n",
    "df = df_ori.copy()"
   ]
  },
  {
   "cell_type": "code",
   "execution_count": 8,
   "metadata": {},
   "outputs": [],
   "source": [
    "train_path = \"train_images\"\n",
    "test_path = \"test_images\"\n",
    "df['image'] = df['image'].apply(lambda x: train_path+\"/\"+x) "
   ]
  },
  {
   "cell_type": "code",
   "execution_count": 9,
   "metadata": {},
   "outputs": [
    {
     "data": {
      "text/html": [
       "<div>\n",
       "<style scoped>\n",
       "    .dataframe tbody tr th:only-of-type {\n",
       "        vertical-align: middle;\n",
       "    }\n",
       "\n",
       "    .dataframe tbody tr th {\n",
       "        vertical-align: top;\n",
       "    }\n",
       "\n",
       "    .dataframe thead th {\n",
       "        text-align: right;\n",
       "    }\n",
       "</style>\n",
       "<table border=\"1\" class=\"dataframe\">\n",
       "  <thead>\n",
       "    <tr style=\"text-align: right;\">\n",
       "      <th></th>\n",
       "      <th>image</th>\n",
       "      <th>healthy</th>\n",
       "      <th>scab</th>\n",
       "      <th>frog_eye_leaf_spot</th>\n",
       "      <th>complex</th>\n",
       "      <th>rust</th>\n",
       "      <th>powdery_mildew</th>\n",
       "    </tr>\n",
       "  </thead>\n",
       "  <tbody>\n",
       "    <tr>\n",
       "      <th>0</th>\n",
       "      <td>train_images/800113bb65efe69e.jpg</td>\n",
       "      <td>1.0</td>\n",
       "      <td>0.0</td>\n",
       "      <td>0.0</td>\n",
       "      <td>0.0</td>\n",
       "      <td>0.0</td>\n",
       "      <td>0.0</td>\n",
       "    </tr>\n",
       "    <tr>\n",
       "      <th>1</th>\n",
       "      <td>train_images/8002cb321f8bfcdf.jpg</td>\n",
       "      <td>0.0</td>\n",
       "      <td>1.0</td>\n",
       "      <td>1.0</td>\n",
       "      <td>1.0</td>\n",
       "      <td>0.0</td>\n",
       "      <td>0.0</td>\n",
       "    </tr>\n",
       "    <tr>\n",
       "      <th>2</th>\n",
       "      <td>train_images/80070f7fb5e2ccaa.jpg</td>\n",
       "      <td>0.0</td>\n",
       "      <td>1.0</td>\n",
       "      <td>0.0</td>\n",
       "      <td>0.0</td>\n",
       "      <td>0.0</td>\n",
       "      <td>0.0</td>\n",
       "    </tr>\n",
       "    <tr>\n",
       "      <th>3</th>\n",
       "      <td>train_images/80077517781fb94f.jpg</td>\n",
       "      <td>0.0</td>\n",
       "      <td>1.0</td>\n",
       "      <td>0.0</td>\n",
       "      <td>0.0</td>\n",
       "      <td>0.0</td>\n",
       "      <td>0.0</td>\n",
       "    </tr>\n",
       "    <tr>\n",
       "      <th>4</th>\n",
       "      <td>train_images/800cbf0ff87721f8.jpg</td>\n",
       "      <td>0.0</td>\n",
       "      <td>0.0</td>\n",
       "      <td>0.0</td>\n",
       "      <td>1.0</td>\n",
       "      <td>0.0</td>\n",
       "      <td>0.0</td>\n",
       "    </tr>\n",
       "    <tr>\n",
       "      <th>...</th>\n",
       "      <td>...</td>\n",
       "      <td>...</td>\n",
       "      <td>...</td>\n",
       "      <td>...</td>\n",
       "      <td>...</td>\n",
       "      <td>...</td>\n",
       "      <td>...</td>\n",
       "    </tr>\n",
       "    <tr>\n",
       "      <th>18627</th>\n",
       "      <td>train_images/fffb900a92289a33.jpg</td>\n",
       "      <td>1.0</td>\n",
       "      <td>0.0</td>\n",
       "      <td>0.0</td>\n",
       "      <td>0.0</td>\n",
       "      <td>0.0</td>\n",
       "      <td>0.0</td>\n",
       "    </tr>\n",
       "    <tr>\n",
       "      <th>18628</th>\n",
       "      <td>train_images/fffc488fa4c0e80c.jpg</td>\n",
       "      <td>0.0</td>\n",
       "      <td>1.0</td>\n",
       "      <td>0.0</td>\n",
       "      <td>0.0</td>\n",
       "      <td>0.0</td>\n",
       "      <td>0.0</td>\n",
       "    </tr>\n",
       "    <tr>\n",
       "      <th>18629</th>\n",
       "      <td>train_images/fffc94e092a59086.jpg</td>\n",
       "      <td>0.0</td>\n",
       "      <td>0.0</td>\n",
       "      <td>0.0</td>\n",
       "      <td>0.0</td>\n",
       "      <td>1.0</td>\n",
       "      <td>0.0</td>\n",
       "    </tr>\n",
       "    <tr>\n",
       "      <th>18630</th>\n",
       "      <td>train_images/fffe105cf6808292.jpg</td>\n",
       "      <td>0.0</td>\n",
       "      <td>1.0</td>\n",
       "      <td>1.0</td>\n",
       "      <td>0.0</td>\n",
       "      <td>0.0</td>\n",
       "      <td>0.0</td>\n",
       "    </tr>\n",
       "    <tr>\n",
       "      <th>18631</th>\n",
       "      <td>train_images/fffe472a0001bd25.jpg</td>\n",
       "      <td>1.0</td>\n",
       "      <td>0.0</td>\n",
       "      <td>0.0</td>\n",
       "      <td>0.0</td>\n",
       "      <td>0.0</td>\n",
       "      <td>0.0</td>\n",
       "    </tr>\n",
       "  </tbody>\n",
       "</table>\n",
       "<p>18632 rows × 7 columns</p>\n",
       "</div>"
      ],
      "text/plain": [
       "                                   image  healthy  scab  frog_eye_leaf_spot  \\\n",
       "0      train_images/800113bb65efe69e.jpg      1.0   0.0                 0.0   \n",
       "1      train_images/8002cb321f8bfcdf.jpg      0.0   1.0                 1.0   \n",
       "2      train_images/80070f7fb5e2ccaa.jpg      0.0   1.0                 0.0   \n",
       "3      train_images/80077517781fb94f.jpg      0.0   1.0                 0.0   \n",
       "4      train_images/800cbf0ff87721f8.jpg      0.0   0.0                 0.0   \n",
       "...                                  ...      ...   ...                 ...   \n",
       "18627  train_images/fffb900a92289a33.jpg      1.0   0.0                 0.0   \n",
       "18628  train_images/fffc488fa4c0e80c.jpg      0.0   1.0                 0.0   \n",
       "18629  train_images/fffc94e092a59086.jpg      0.0   0.0                 0.0   \n",
       "18630  train_images/fffe105cf6808292.jpg      0.0   1.0                 1.0   \n",
       "18631  train_images/fffe472a0001bd25.jpg      1.0   0.0                 0.0   \n",
       "\n",
       "       complex  rust  powdery_mildew  \n",
       "0          0.0   0.0             0.0  \n",
       "1          1.0   0.0             0.0  \n",
       "2          0.0   0.0             0.0  \n",
       "3          0.0   0.0             0.0  \n",
       "4          1.0   0.0             0.0  \n",
       "...        ...   ...             ...  \n",
       "18627      0.0   0.0             0.0  \n",
       "18628      0.0   0.0             0.0  \n",
       "18629      0.0   1.0             0.0  \n",
       "18630      0.0   0.0             0.0  \n",
       "18631      0.0   0.0             0.0  \n",
       "\n",
       "[18632 rows x 7 columns]"
      ]
     },
     "execution_count": 9,
     "metadata": {},
     "output_type": "execute_result"
    }
   ],
   "source": [
    "df"
   ]
  },
  {
   "cell_type": "code",
   "execution_count": 11,
   "metadata": {},
   "outputs": [
    {
     "data": {
      "text/plain": [
       "Text(0.5, 1.0, 'Labels for leaf deseases')"
      ]
     },
     "execution_count": 11,
     "metadata": {},
     "output_type": "execute_result"
    },
    {
     "data": {
      "image/png": "[encoded data removed]",
      "text/plain": [
       "<Figure size 720x720 with 1 Axes>"
      ]
     },
     "metadata": {
      "needs_background": "light"
     },
     "output_type": "display_data"
    }
   ],
   "source": [
    "#check for unique variable\n",
    "# unique_train = metadata_train.nunique()\n",
    "# display(f\"There are {unique_train.image} {metadata_train.columns[0]}(s) and {unique_train.labels} {metadata_train.columns[1]}.\")\n",
    "# unique_label_count = metadata_train['labels'].value_counts()\n",
    "plot_data = np.array(df.drop(['image'], axis=1).sum(axis=0))\n",
    "plot_dict = {\n",
    "    'label':[],\n",
    "    'sum':[],\n",
    "}\n",
    "for idx, desease in enumerate(labels):\n",
    "    plot_dict['label'].append(desease)\n",
    "    plot_dict['sum'].append(plot_data[idx])\n",
    "plot_data_df = pd.DataFrame(plot_dict)\n",
    "\n",
    "#show how many labels in the dataframe\n",
    "fig, ax = plt.subplots(figsize=(10,10))\n",
    "sns.barplot(data = plot_data_df, x='label', y='sum', ax=ax)\n",
    "ax.set_title(\"Labels for leaf deseases\")\n",
    "# ax.set_xticks(range(0,6000, 500))"
   ]
  },
  {
   "cell_type": "code",
   "execution_count": 12,
   "metadata": {},
   "outputs": [
    {
     "data": {
      "text/plain": [
       "array([4624., 5712., 4352., 2151., 2077., 1271.])"
      ]
     },
     "execution_count": 12,
     "metadata": {},
     "output_type": "execute_result"
    }
   ],
   "source": [
    "plot_data"
   ]
  },
  {
   "cell_type": "code",
   "execution_count": 37,
   "metadata": {},
   "outputs": [
    {
     "name": "stderr",
     "output_type": "stream",
     "text": [
      "C:\\Users\\USER\\Anaconda3\\lib\\site-packages\\distributed\\node.py:151: UserWarning: Port 8787 is already in use.\n",
      "Perhaps you already have a cluster running?\n",
      "Hosting the HTTP server on port 50336 instead\n",
      "  warnings.warn(\n"
     ]
    },
    {
     "data": {
      "application/vnd.jupyter.widget-view+json": {
       "model_id": "e931b6ba5461402aac73731cb40e5f1e",
       "version_major": 2,
       "version_minor": 0
      },
      "text/plain": [
       "VBox(children=(HTML(value='<h2>LocalCluster</h2>'), HBox(children=(HTML(value='\\n<div>\\n  <style scoped>\\n    …"
      ]
     },
     "metadata": {},
     "output_type": "display_data"
    }
   ],
   "source": [
    "# local_cluster = None\n",
    "# if local_cluster == None:\n",
    "#     local_cluster = LocalCluster()\n",
    "# local_cluster"
   ]
  },
  {
   "cell_type": "code",
   "execution_count": 38,
   "metadata": {
    "scrolled": false
   },
   "outputs": [
    {
     "data": {
      "text/html": [
       "<table style=\"border: 2px solid white;\">\n",
       "<tr>\n",
       "<td style=\"vertical-align: top; border: 0px solid white\">\n",
       "<h3 style=\"text-align: left;\">Client</h3>\n",
       "<ul style=\"text-align: left; list-style: none; margin: 0; padding: 0;\">\n",
       "  <li><b>Scheduler: </b>tcp://127.0.0.1:50339</li>\n",
       "  <li><b>Dashboard: </b><a href='http://127.0.0.1:50336/status' target='_blank'>http://127.0.0.1:50336/status</a></li>\n",
       "</ul>\n",
       "</td>\n",
       "<td style=\"vertical-align: top; border: 0px solid white\">\n",
       "<h3 style=\"text-align: left;\">Cluster</h3>\n",
       "<ul style=\"text-align: left; list-style:none; margin: 0; padding: 0;\">\n",
       "  <li><b>Workers: </b>8</li>\n",
       "  <li><b>Cores: </b>24</li>\n",
       "  <li><b>Memory: </b>34.08 GB</li>\n",
       "</ul>\n",
       "</td>\n",
       "</tr>\n",
       "</table>"
      ],
      "text/plain": [
       "<Client: 'tcp://127.0.0.1:50339' processes=8 threads=24, memory=34.08 GB>"
      ]
     },
     "execution_count": 38,
     "metadata": {},
     "output_type": "execute_result"
    }
   ],
   "source": [
    "# client = Client(local_cluster)\n",
    "# client"
   ]
  },
  {
   "cell_type": "code",
   "execution_count": 9,
   "metadata": {},
   "outputs": [],
   "source": [
    "#All necessecary libraries\n",
    "import tensorflow as tf\n",
    "from tensorflow import keras\n",
    "from tensorflow.keras.preprocessing.image import ImageDataGenerator, load_img\n",
    "from sklearn.model_selection import train_test_split\n",
    "#specify path for files for images\n",
    "# train_ori_path = \"train_images\"\n",
    "# test_ori_path = \"test_images\""
   ]
  },
  {
   "cell_type": "markdown",
   "metadata": {},
   "source": [
    "# Split data for training(80%) and validating(20%)"
   ]
  },
  {
   "cell_type": "code",
   "execution_count": 14,
   "metadata": {},
   "outputs": [],
   "source": [
    "# # train and test\n",
    "# x_train, x_test, y_train, y_test = train_test_split(metadata_train['image'], metadata_train['labels'], test_size=0.15, random_state=42, stratify=metadata_train['labels']) \n",
    "# # validation \n",
    "# x_train, x_val, y_train, y_val = train_test_split(metadata_train['image'], metadata_train['labels'], test_size=0.15, random_state=42, stratify=metadata_train['labels'])"
   ]
  },
  {
   "cell_type": "code",
   "execution_count": 15,
   "metadata": {},
   "outputs": [],
   "source": [
    "# train_ratio = 0.7\n",
    "# validation_ratio = 0.15\n",
    "# test_ratio = 0.15\n",
    "\n",
    "# x_train, x_test, y_train, y_test = train_test_split(metadata_train['image'], \n",
    "#                                                     metadata_train['labels'], \n",
    "#                                                     test_size = 1 - train_ratio, \n",
    "#                                                     random_state=42, \n",
    "#                                                     stratify=metadata_train['labels']) \n",
    "\n",
    "# x_val, x_test, y_val, y_test = train_test_split(x_test, \n",
    "#                                                 y_test, \n",
    "#                                                 test_size=test_ratio/(test_ratio + validation_ratio), \n",
    "#                                                 random_state=42, \n",
    "#                                                 stratify=y_test)\n",
    "\n",
    "\n",
    "# full_len = len(metadata_train)\n",
    "# print(f\"train ratio = {len(x_train)/full_len}\")\n",
    "# print(f\"validation ratio = {len(x_val)/full_len}\")\n",
    "# print(f\"test ratio = {len(x_test)/full_len}\")"
   ]
  },
  {
   "cell_type": "code",
   "execution_count": 200,
   "metadata": {},
   "outputs": [],
   "source": [
    "# train = pd.DataFrame(data=[x_train.values, y_train.values], columns=['image', 'label'])\n",
    "# test = pd.DataFrame(data=[x_test.values, y_test.values], columns=['image', 'label'])\n",
    "# validation = pd.DataFrame(data=[x_val.values, y_val.values], columns=['image', 'label'])"
   ]
  },
  {
   "cell_type": "code",
   "execution_count": 210,
   "metadata": {
    "scrolled": true
   },
   "outputs": [],
   "source": [
    "# y_train.values.astype(list)"
   ]
  },
  {
   "cell_type": "code",
   "execution_count": 6,
   "metadata": {
    "scrolled": false
   },
   "outputs": [
    {
     "data": {
      "text/html": [
       "<div>\n",
       "<style scoped>\n",
       "    .dataframe tbody tr th:only-of-type {\n",
       "        vertical-align: middle;\n",
       "    }\n",
       "\n",
       "    .dataframe tbody tr th {\n",
       "        vertical-align: top;\n",
       "    }\n",
       "\n",
       "    .dataframe thead th {\n",
       "        text-align: right;\n",
       "    }\n",
       "</style>\n",
       "<table border=\"1\" class=\"dataframe\">\n",
       "  <thead>\n",
       "    <tr style=\"text-align: right;\">\n",
       "      <th></th>\n",
       "      <th>image</th>\n",
       "      <th>labels</th>\n",
       "    </tr>\n",
       "  </thead>\n",
       "  <tbody>\n",
       "    <tr>\n",
       "      <th>0</th>\n",
       "      <td>800113bb65efe69e.jpg</td>\n",
       "      <td>[healthy]</td>\n",
       "    </tr>\n",
       "    <tr>\n",
       "      <th>1</th>\n",
       "      <td>8002cb321f8bfcdf.jpg</td>\n",
       "      <td>[scab, frog_eye_leaf_spot, complex]</td>\n",
       "    </tr>\n",
       "    <tr>\n",
       "      <th>2</th>\n",
       "      <td>80070f7fb5e2ccaa.jpg</td>\n",
       "      <td>[scab]</td>\n",
       "    </tr>\n",
       "    <tr>\n",
       "      <th>3</th>\n",
       "      <td>80077517781fb94f.jpg</td>\n",
       "      <td>[scab]</td>\n",
       "    </tr>\n",
       "    <tr>\n",
       "      <th>4</th>\n",
       "      <td>800cbf0ff87721f8.jpg</td>\n",
       "      <td>[complex]</td>\n",
       "    </tr>\n",
       "    <tr>\n",
       "      <th>...</th>\n",
       "      <td>...</td>\n",
       "      <td>...</td>\n",
       "    </tr>\n",
       "    <tr>\n",
       "      <th>18627</th>\n",
       "      <td>fffb900a92289a33.jpg</td>\n",
       "      <td>[healthy]</td>\n",
       "    </tr>\n",
       "    <tr>\n",
       "      <th>18628</th>\n",
       "      <td>fffc488fa4c0e80c.jpg</td>\n",
       "      <td>[scab]</td>\n",
       "    </tr>\n",
       "    <tr>\n",
       "      <th>18629</th>\n",
       "      <td>fffc94e092a59086.jpg</td>\n",
       "      <td>[rust]</td>\n",
       "    </tr>\n",
       "    <tr>\n",
       "      <th>18630</th>\n",
       "      <td>fffe105cf6808292.jpg</td>\n",
       "      <td>[scab, frog_eye_leaf_spot]</td>\n",
       "    </tr>\n",
       "    <tr>\n",
       "      <th>18631</th>\n",
       "      <td>fffe472a0001bd25.jpg</td>\n",
       "      <td>[healthy]</td>\n",
       "    </tr>\n",
       "  </tbody>\n",
       "</table>\n",
       "<p>18632 rows × 2 columns</p>\n",
       "</div>"
      ],
      "text/plain": [
       "                      image                               labels\n",
       "0      800113bb65efe69e.jpg                            [healthy]\n",
       "1      8002cb321f8bfcdf.jpg  [scab, frog_eye_leaf_spot, complex]\n",
       "2      80070f7fb5e2ccaa.jpg                               [scab]\n",
       "3      80077517781fb94f.jpg                               [scab]\n",
       "4      800cbf0ff87721f8.jpg                            [complex]\n",
       "...                     ...                                  ...\n",
       "18627  fffb900a92289a33.jpg                            [healthy]\n",
       "18628  fffc488fa4c0e80c.jpg                               [scab]\n",
       "18629  fffc94e092a59086.jpg                               [rust]\n",
       "18630  fffe105cf6808292.jpg           [scab, frog_eye_leaf_spot]\n",
       "18631  fffe472a0001bd25.jpg                            [healthy]\n",
       "\n",
       "[18632 rows x 2 columns]"
      ]
     },
     "execution_count": 6,
     "metadata": {},
     "output_type": "execute_result"
    }
   ],
   "source": [
    "# data is sorted, because function for flow_from_dataframe will sort data in alphanumeric order id 'shuffle' paramater = False\n",
    "metadata_train.sort_values(by=['image'], ignore_index=True, inplace=True)\n",
    "metadata_train"
   ]
  },
  {
   "cell_type": "markdown",
   "metadata": {},
   "source": [
    "# Image Preprocessing\n",
    "1. This step is implemented using ImageDataGenerator which a Keras function for data augmentation which can be scaled, flip, resize, sheared, brightened, zoomed, shifted, and many more. We can also specify its \"fill_mode\" parameter which shows how the function going to fill data due to transformation.\n",
    "\n",
    "2. Together with flow_from_datafram function for acessing image path and specifiy classes and target size which is the size of the image."
   ]
  },
  {
   "cell_type": "code",
   "execution_count": 7,
   "metadata": {},
   "outputs": [],
   "source": [
    "# CONSTANTS VARIABLES\n",
    "BATCH_SIZE = 128"
   ]
  },
  {
   "cell_type": "code",
   "execution_count": 47,
   "metadata": {},
   "outputs": [
    {
     "name": "stdout",
     "output_type": "stream",
     "text": [
      "Found 18632 validated image filenames belonging to 6 classes.\n",
      "Found 18632 validated image filenames belonging to 6 classes.\n",
      "Found 3 validated image filenames belonging to 1 classes.\n"
     ]
    }
   ],
   "source": [
    "\n",
    "generator = ImageDataGenerator(rescale=1./255,\n",
    "                               horizontal_flip=True,\n",
    "                               vertical_flip=True,\n",
    "                               rotation_range=20,\n",
    "                               height_shift_range=0.1,\n",
    "                               width_shift_range=0.1,\n",
    "                               shear_range=0.1,\n",
    "                               fill_mode='nearest',\n",
    "                               validation_split=0.2)\n",
    "\n",
    "train_generator = generator.flow_from_dataframe(dataframe=metadata_train,\n",
    "                                         directory = './plant-pathology-2021-fgvc8/train_images/',\n",
    "                                         x_col='image',\n",
    "                                         y_col='labels',\n",
    "                                         batch_size=BATCH_SIZE,\n",
    "                                         seed=42,\n",
    "                                         classes=labels,\n",
    "                                         target_size=(128,128),\n",
    "                                         class_mode='categorical')\n",
    "\n",
    "validation_generator = generator.flow_from_dataframe(dataframe=metadata_train,\n",
    "                                         directory = './plant-pathology-2021-fgvc8/train_images/',\n",
    "                                         x_col='image',\n",
    "                                         y_col='labels',\n",
    "                                         batch_size=BATCH_SIZE,\n",
    "                                         seed=42,\n",
    "                                         classes=labels,\n",
    "                                         target_size=(128,128),\n",
    "                                         class_mode='categorical')\n",
    "\n",
    "# test_generator = generator.flow_from_dataframe(dataframe=metadata_test,\n",
    "#                                          directory = './plant-pathology-2021-fgvc8/test_images/',\n",
    "#                                          x_col='image',\n",
    "#                                          y_col='labels',\n",
    "#                                          batch_size=BATCH_SIZE,\n",
    "#                                          seed=42,\n",
    "#                                          target_size=(128,128),\n",
    "#                                          class_mode='categorical')"
   ]
  },
  {
   "cell_type": "code",
   "execution_count": 11,
   "metadata": {},
   "outputs": [
    {
     "name": "stdout",
     "output_type": "stream",
     "text": [
      "there is/are 1 GPU devices\n"
     ]
    }
   ],
   "source": [
    "# check GPU\n",
    "# Return a list of physical devices visible to the host runtime.\n",
    "gpu = tf.config.experimental.list_physical_devices('GPU')\n",
    "print(f\"there is/are {len(gpu)} GPU devices\")\n",
    "# Set if memory growth should be enabled for a PhysicalDevice (GPU).\n",
    "tf.config.experimental.set_memory_growth(gpu[0], True)"
   ]
  },
  {
   "cell_type": "code",
   "execution_count": 13,
   "metadata": {},
   "outputs": [],
   "source": [
    "# size after being modified\n",
    "WIDTH_SIZE = HEIGHT_SIZE = 128\n",
    "# rgb\n",
    "CHANNEL = 3\n",
    "input_shape = (WIDTH_SIZE, HEIGHT_SIZE, CHANNEL)"
   ]
  },
  {
   "cell_type": "code",
   "execution_count": 184,
   "metadata": {},
   "outputs": [],
   "source": [
    "# # data generator must be transform into tf.data form\n",
    "# def transform_to_tf_data(generator, input_shape):\n",
    "#     num_class = len(generator.class_indices)\n",
    "#     return tf.data.Dataset.from_generator(lambda: generator, \n",
    "#                                          output_types=(tf.float32, tf.float32),\n",
    "#                                          output_shapes=([\n",
    "#                                              None,\n",
    "#                                              input_shape[0],\n",
    "#                                              input_shape[1],\n",
    "#                                              input_shape[2]],\n",
    "#                                              [None, num_class]))\n",
    "\n",
    "# train_data = transform_to_tf_data(train_generator, input_shape)\n",
    "# validation_generator = transform_to_tf_data(validation_generator, input_shape)"
   ]
  },
  {
   "cell_type": "markdown",
   "metadata": {},
   "source": [
    "# Model CNN - 1"
   ]
  },
  {
   "cell_type": "code",
   "execution_count": 18,
   "metadata": {},
   "outputs": [],
   "source": [
    "from keras.models import Sequential\n",
    "from keras.layers import Activation, Conv2D, MaxPooling2D, Flatten, Dropout, Dense"
   ]
  },
  {
   "cell_type": "code",
   "execution_count": 19,
   "metadata": {
    "scrolled": true
   },
   "outputs": [
    {
     "name": "stdout",
     "output_type": "stream",
     "text": [
      "Convolutional 2D = (None, 128, 128, 32)\n",
      "Activation Relu = (None, 128, 128, 32)\n",
      "Convolutional 2D = (None, 126, 126, 32)\n",
      "Activation Relu = (None, 126, 126, 32)\n",
      "Max Pooling 2D = (None, 63, 63, 32)\n",
      "Max Dropout = (None, 63, 63, 32)\n",
      "\n",
      "Convolutional 2D = (None, 63, 63, 64)\n",
      "Activation Relu = (None, 63, 63, 64)\n",
      "Convolutional 2D = (None, 61, 61, 64)\n",
      "Activation Relu = (None, 61, 61, 64)\n",
      "Max Pooling 2D = (None, 30, 30, 64)\n",
      "Dropout = (None, 30, 30, 64)\n",
      "\n",
      "Flatten = (None, 57600)\n",
      "Dense = (None, 512)\n",
      "Activation Relu = (None, 512)\n",
      "Dropout = (None, 512)\n",
      "Dense = (None, 6)\n",
      "Sigmoid = (None, 6)\n"
     ]
    }
   ],
   "source": [
    "# Sequential is used to define some sort of skeleton for the model. Then we can add block layer in it\n",
    "# Groups of linear stack of layer\n",
    "# input_shape = (128, 128, 128, 3)\n",
    "# input_shape = (4, 28, 28, 3)\n",
    "# x = tf.random.normal(input_shape)\n",
    "\n",
    "model = Sequential()\n",
    "filters = [32, 64]\n",
    "model.add(Conv2D(filters=filters[0], \n",
    "                 kernel_size=(3,3),\n",
    "                 strides=(1,1),\n",
    "                 padding=\"same\",\n",
    "                 input_shape=input_shape))\n",
    "print(f\"Convolutional 2D = {model.output_shape}\")\n",
    "model.add(Activation('relu'))\n",
    "print(f\"Activation Relu = {model.output_shape}\")\n",
    "model.add(Conv2D(filters=filters[0], \n",
    "                 kernel_size=(3,3)))\n",
    "print(f\"Convolutional 2D = {model.output_shape}\")\n",
    "model.add(Activation('relu'))\n",
    "print(f\"Activation Relu = {model.output_shape}\")\n",
    "model.add(MaxPooling2D(pool_size=(2,2)))\n",
    "print(f\"Max Pooling 2D = {model.output_shape}\")\n",
    "# drop some nodes becase keeping all of nodes may result to overfitting\n",
    "model.add(Dropout(0.2))\n",
    "print(f\"Max Dropout = {model.output_shape}\")\n",
    "# -------------------------------------------------------------------------------------\n",
    "print()\n",
    "model.add(Conv2D(filters=filters[1],\n",
    "                 kernel_size=(3,3),\n",
    "                 padding=\"same\"))\n",
    "print(f\"Convolutional 2D = {model.output_shape}\")\n",
    "model.add(Activation('relu'))\n",
    "print(f\"Activation Relu = {model.output_shape}\")\n",
    "model.add(Conv2D(filters=filters[1], \n",
    "                 kernel_size=(3,3)))\n",
    "print(f\"Convolutional 2D = {model.output_shape}\")\n",
    "model.add(Activation('relu'))\n",
    "print(f\"Activation Relu = {model.output_shape}\")\n",
    "model.add(MaxPooling2D(pool_size=(2,2)))\n",
    "print(f\"Max Pooling 2D = {model.output_shape}\")\n",
    "# drop some nodes becase keeping all of nodes may result to overfitting\n",
    "model.add(Dropout(0.2))\n",
    "print(f\"Dropout = {model.output_shape}\")\n",
    "# -------------------------------------------------------------------------------------\n",
    "# use to flatten input data\n",
    "print()\n",
    "model.add(Flatten())\n",
    "print(f\"Flatten = {model.output_shape}\")\n",
    "model.add(Dense(512))\n",
    "print(f\"Dense = {model.output_shape}\")\n",
    "model.add(Activation('relu'))\n",
    "print(f\"Activation Relu = {model.output_shape}\")\n",
    "# drop some nodes becase keeping all of nodes may result to overfitting\n",
    "model.add(Dropout(0.3))\n",
    "print(f\"Dropout = {model.output_shape}\")\n",
    "model.add(Dense(len(labels)))\n",
    "print(f\"Dense = {model.output_shape}\")\n",
    "model.add(Activation(\"sigmoid\"))\n",
    "print(f\"Sigmoid = {model.output_shape}\")"
   ]
  },
  {
   "cell_type": "code",
   "execution_count": 20,
   "metadata": {},
   "outputs": [],
   "source": [
    "model.compile(loss='binary_crossentropy', optimizer='adam')"
   ]
  },
  {
   "cell_type": "code",
   "execution_count": 21,
   "metadata": {},
   "outputs": [],
   "source": [
    "TRAINING_SIZE = math.ceil(len(metadata_train)*0.8)\n",
    "VALIDATION_SIZE = math.ceil(len(metadata_train)*0.2)"
   ]
  },
  {
   "cell_type": "code",
   "execution_count": 22,
   "metadata": {},
   "outputs": [],
   "source": [
    "steps_per_epoch = math.ceil(TRAINING_SIZE/BATCH_SIZE)\n",
    "val_steps = math.ceil(VALIDATION_SIZE/BATCH_SIZE)"
   ]
  },
  {
   "cell_type": "code",
   "execution_count": 23,
   "metadata": {
    "scrolled": true
   },
   "outputs": [
    {
     "name": "stderr",
     "output_type": "stream",
     "text": [
      "<ipython-input-23-01490bbac591>:4: UserWarning: `Model.fit_generator` is deprecated and will be removed in a future version. Please use `Model.fit`, which supports generators.\n",
      "  history = model.fit_generator(\n"
     ]
    },
    {
     "name": "stdout",
     "output_type": "stream",
     "text": [
      "117/117 [==============================] - 552s 4s/step - loss: 0.4783 - val_loss: 0.4105\n",
      "execution time 563.6437478065491\n"
     ]
    }
   ],
   "source": [
    "import time\n",
    "start_time = time.time()\n",
    "with tf.device('/GPU:0'):\n",
    "    history = model.fit_generator(\n",
    "        train_generator,\n",
    "        steps_per_epoch = steps_per_epoch,\n",
    "        validation_data = validation_generator,\n",
    "        validation_steps= val_steps,\n",
    "        workers=8,\n",
    "    )\n",
    "print(f\"execution time {time.time()-start_time}\")"
   ]
  },
  {
   "cell_type": "code",
   "execution_count": null,
   "metadata": {},
   "outputs": [],
   "source": [
    "import time\n",
    "start_time = time.time()\n",
    "with tf.device('/GPU:0'):\n",
    "    history = model.fit_generator(\n",
    "        train_generator,\n",
    "        steps_per_epoch = steps_per_epoch,\n",
    "        validation_data = validation_generator,\n",
    "        validation_steps= val_steps,\n",
    "        workers=8,\n",
    "    )\n",
    "print(f\"execution time {time.time()-start_time}\")"
   ]
  },
  {
   "cell_type": "code",
   "execution_count": 24,
   "metadata": {},
   "outputs": [
    {
     "data": {
      "text/plain": [
       "<keras.callbacks.History at 0x2b0a707eaf0>"
      ]
     },
     "execution_count": 24,
     "metadata": {},
     "output_type": "execute_result"
    }
   ],
   "source": [
    "history"
   ]
  },
  {
   "cell_type": "code",
   "execution_count": 26,
   "metadata": {},
   "outputs": [],
   "source": [
    "model.save('models/cnn_ver_1.h5')"
   ]
  },
  {
   "cell_type": "code",
   "execution_count": 60,
   "metadata": {},
   "outputs": [
    {
     "name": "stdout",
     "output_type": "stream",
     "text": [
      "Found 3 validated image filenames.\n",
      "execution time 0.32708024978637695\n"
     ]
    }
   ],
   "source": [
    "#using gpu for computation\n",
    "test_generator = ImageDataGenerator(rescale=1./255).flow_from_dataframe(metadata_test,\n",
    "                                                                     directory = './plant-pathology-2021-fgvc8/test_images/',\n",
    "                                                                     x_col='image',\n",
    "                                                                     y_col=None,\n",
    "                                                                     class_mode= None,\n",
    "                                                                     shuffle=False,\n",
    "                                                                     target_size=(WIDTH_SIZE, HEIGHT_SIZE))\n",
    "\n",
    "import time\n",
    "start_time = time.time()\n",
    "with tf.device('/GPU:0'):\n",
    "    test_imgs = next(test_generator)\n",
    "print(f\"execution time {time.time()-start_time}\")"
   ]
  },
  {
   "cell_type": "code",
   "execution_count": 62,
   "metadata": {},
   "outputs": [
    {
     "data": {
      "text/plain": [
       "<matplotlib.image.AxesImage at 0x2b0fa8cf8b0>"
      ]
     },
     "execution_count": 62,
     "metadata": {},
     "output_type": "execute_result"
    },
    {
     "data": {
      "image/png": "[encoded data removed]",
      "text/plain": [
       "<Figure size 432x288 with 1 Axes>"
      ]
     },
     "metadata": {
      "needs_background": "light"
     },
     "output_type": "display_data"
    }
   ],
   "source": []
  },
  {
   "cell_type": "code",
   "execution_count": 63,
   "metadata": {},
   "outputs": [],
   "source": [
    "result = model.predict(x=test_imgs, steps=len(test_imgs), verbose=0)"
   ]
  },
  {
   "cell_type": "code",
   "execution_count": 64,
   "metadata": {},
   "outputs": [
    {
     "data": {
      "text/plain": [
       "array([[0.01823622, 0.09672154, 0.44223276, 0.01003068, 0.32478258,\n",
       "        0.13149454],\n",
       "       [0.38058087, 0.34475973, 0.17591156, 0.25686935, 0.11157941,\n",
       "        0.31700033],\n",
       "       [0.09200917, 0.24564484, 0.30927515, 0.06452481, 0.09589706,\n",
       "        0.44624472]], dtype=float32)"
      ]
     },
     "execution_count": 64,
     "metadata": {},
     "output_type": "execute_result"
    }
   ],
   "source": [
    "result"
   ]
  }
 ],
 "metadata": {
  "kernelspec": {
   "display_name": "Python 3",
   "language": "python",
   "name": "python3"
  },
  "language_info": {
   "codemirror_mode": {
    "name": "ipython",
    "version": 3
   },
   "file_extension": ".py",
   "mimetype": "text/x-python",
   "name": "python",
   "nbconvert_exporter": "python",
   "pygments_lexer": "ipython3",
   "version": "3.8.5"
  }
 },
 "nbformat": 4,
 "nbformat_minor": 4
}
